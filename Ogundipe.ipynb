{
  "nbformat": 4,
  "nbformat_minor": 0,
  "metadata": {
    "colab": {
      "provenance": [],
      "authorship_tag": "ABX9TyPHBzG93DDNkGe1AKGVH89K",
      "include_colab_link": true
    },
    "kernelspec": {
      "name": "python3",
      "display_name": "Python 3"
    },
    "language_info": {
      "name": "python"
    }
  },
  "cells": [
    {
      "cell_type": "markdown",
      "metadata": {
        "id": "view-in-github",
        "colab_type": "text"
      },
      "source": [
        "<a href=\"https://colab.research.google.com/github/Adrel410/Adrel410.github.io/blob/master/Ogundipe.ipynb\" target=\"_parent\"><img src=\"https://colab.research.google.com/assets/colab-badge.svg\" alt=\"Open In Colab\"/></a>"
      ]
    },
    {
      "cell_type": "code",
      "execution_count": 12,
      "metadata": {
        "colab": {
          "base_uri": "https://localhost:8080/"
        },
        "id": "8uoJqYHfLnVR",
        "outputId": "8d727b4c-df35-413c-d7ee-dcae86f84f89"
      },
      "outputs": [
        {
          "output_type": "stream",
          "name": "stdout",
          "text": [
            "165 10\n",
            " 23 92\n",
            " 31 57\n",
            " 29 49\n",
            " 44 68\n",
            " 53 60\n",
            " 38 43\n",
            " 63 67\n",
            " 85 84\n",
            " 89 87\n",
            " 82 72\n",
            "1 1 1 1 0 1 0 0 0 0\n",
            "309 165\n"
          ]
        }
      ],
      "source": [
        "import random\n",
        "\n",
        "# Function to initialize population\n",
        "def initialize_population(pop_size, chromosome_length):\n",
        "    population = []\n",
        "    for _ in range(pop_size):\n",
        "        chromosome = [random.randint(0, 1) for _ in range(chromosome_length)]\n",
        "        population.append(chromosome)\n",
        "    return population\n",
        "\n",
        "# Function to calculate fitness of a chromosome\n",
        "def calculate_fitness(chromosome, weights, values, max_weight):\n",
        "    total_weight = 0\n",
        "    total_value = 0\n",
        "    for i in range(len(chromosome)):\n",
        "        if chromosome[i] == 1:\n",
        "            total_weight += weights[i]\n",
        "            total_value += values[i]\n",
        "    if total_weight > max_weight:\n",
        "        return 0\n",
        "    else:\n",
        "        return total_value\n",
        "\n",
        "# Function to perform crossover\n",
        "def crossover(parent1, parent2):\n",
        "    crossover_point = random.randint(1, len(parent1) - 1)\n",
        "    child1 = parent1[:crossover_point] + parent2[crossover_point:]\n",
        "    child2 = parent2[:crossover_point] + parent1[crossover_point:]\n",
        "    return child1, child2\n",
        "\n",
        "# Function to perform mutation\n",
        "def mutate(chromosome, mutation_rate):\n",
        "    for i in range(len(chromosome)):\n",
        "        if random.random() < mutation_rate:\n",
        "            chromosome[i] = 1 - chromosome[i]\n",
        "    return chromosome\n",
        "\n",
        "# Main Genetic Algorithm function\n",
        "def genetic_algorithm(weights, values, max_weight, pop_size, mutation_rate, max_iterations):\n",
        "    population = initialize_population(pop_size, len(weights))\n",
        "    for _ in range(max_iterations):\n",
        "        # Calculate fitness for each chromosome\n",
        "        fitness_scores = [calculate_fitness(chromosome, weights, values, max_weight) for chromosome in population]\n",
        "\n",
        "        # Selection: Select top half of the population based on fitness\n",
        "        selected_indices = sorted(range(len(fitness_scores)), key=lambda k: fitness_scores[k], reverse=True)[:pop_size//2]\n",
        "        selected_population = [population[i] for i in selected_indices]\n",
        "\n",
        "        # Crossover and Mutation\n",
        "        offspring = []\n",
        "        while len(offspring) < pop_size:\n",
        "            parent1, parent2 = random.choices(selected_population, k=2)\n",
        "            child1, child2 = crossover(parent1, parent2)\n",
        "            child1 = mutate(child1, mutation_rate)\n",
        "            child2 = mutate(child2, mutation_rate)\n",
        "            offspring.extend([child1, child2])\n",
        "\n",
        "        population = offspring\n",
        "\n",
        "    # Select the best chromosome from the final population\n",
        "    best_chromosome_index = max(range(len(population)), key=lambda x: calculate_fitness(population[x], weights, values, max_weight))\n",
        "    best_chromosome = population[best_chromosome_index]\n",
        "    best_value = calculate_fitness(best_chromosome, weights, values, max_weight)\n",
        "    best_weight = sum(weights[i] for i in range(len(best_chromosome)) if best_chromosome[i] == 1)\n",
        "\n",
        "    return best_chromosome, best_value, best_weight\n",
        "\n",
        "# Driver code\n",
        "if __name__ == \"__main__\":\n",
        "    # Input\n",
        "    max_weight, n = map(int, input().split())\n",
        "    weights = []\n",
        "    values = []\n",
        "    for _ in range(n):\n",
        "        w, v = map(int, input().split())\n",
        "        weights.append(w)\n",
        "        values.append(v)\n",
        "\n",
        "    # Parameters for GA\n",
        "    pop_size = 100\n",
        "    mutation_rate = 0.1\n",
        "    max_iterations = 1000\n",
        "\n",
        "    # Running GA\n",
        "    optimal_chromosome, optimal_value, optimal_weight = genetic_algorithm(weights, values, max_weight, pop_size, mutation_rate, max_iterations)\n",
        "\n",
        "    # Output\n",
        "    print(\" \".join(str(x) for x in optimal_chromosome))\n",
        "    print(optimal_value, optimal_weight)\n",
        "\n"
      ]
    }
  ]
}